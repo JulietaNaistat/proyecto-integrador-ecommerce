{
 "cells": [
  {
   "cell_type": "markdown",
   "id": "4c05bcc0",
   "metadata": {},
   "source": [
    "## SCD Tipo 2 aplicado a la tabla `usuarios`\n",
    "\n",
    "En este notebook exploramos cómo aplicar el concepto de Slowly Changing Dimensions (SCD) Tipo 2 a la tabla `usuarios`, con el objetivo de preservar el historial de cambios en los datos."
   ]
  },
  {
   "cell_type": "markdown",
   "id": "1c852559",
   "metadata": {},
   "source": [
    "### Eleccion de SCD: Tipo 2\n",
    "\n",
    "Con el modelo de datos proveído no hay columnas que operen con Slowly Changing Dimensions, pero de implementarse un buen punto de partida seria Usuarios, y SCD tipo 2. De esta forma podriamos **preservar el historial** de los cambios, analizar evolucion de los datos y mantener trazabilidad histórica. La tabla Usuarios es un buen punto de partida ya que no debería tener cambios muy recurrentes que incrementen demasiado el tamaño de nuestra tabla pero si los suficientes para probar la implementacion."
   ]
  },
  {
   "cell_type": "code",
   "execution_count": null,
   "id": "083b3378",
   "metadata": {},
   "outputs": [],
   "source": [
    "# Simulación de la tabla original de usuarios\n",
    "import pandas as pd\n",
    "from datetime import datetime\n",
    "\n",
    "usuarios = pd.DataFrame([\n",
    "    {'usuarioid': 1, 'nombre': 'Julieta', 'apellido': 'Gómez', 'dni': '12345678', 'email': 'julieta@correo.com', 'contraseña': 'C213'},\n",
    "    {'usuarioid': 2, 'nombre': 'Carlos', 'apellido': 'Pérez', 'dni': '87654321', 'email': 'carlos@correo.com', 'contraseña': 'C123'}\n",
    "])\n",
    "\n",
    "usuarios"
   ]
  },
  {
   "cell_type": "code",
   "execution_count": null,
   "id": "477c781f",
   "metadata": {},
   "outputs": [],
   "source": [
    "# Agregamos columnas para SCD Tipo 2\n",
    "usuarios_dim = usuarios.copy()\n",
    "usuarios_dim['fecha_inicio'] = datetime(2023, 1, 1)\n",
    "usuarios_dim['fecha_fin'] = pd.NaT\n",
    "usuarios_dim['is_current'] = True\n",
    "\n",
    "usuarios_dim"
   ]
  },
  {
   "cell_type": "markdown",
   "id": "9e990f16",
   "metadata": {},
   "source": [
    "### Simulación de un cambio\n"
   ]
  },
  {
   "cell_type": "code",
   "execution_count": null,
   "id": "d61c759c",
   "metadata": {},
   "outputs": [],
   "source": [
    "# Cerramos la versión actual y agregamos una nueva fila con el nuevo email\n",
    "nueva_version = {\n",
    "    'usuarioid': 1,\n",
    "    'nombre': 'Julieta',\n",
    "    'apellido': 'Gómez',\n",
    "    'dni': '12345678',\n",
    "    'email': 'julieta.nuevo@example.com',\n",
    "    'contraseña': 'hash1',\n",
    "    'fecha_inicio': datetime(2024, 3, 1),\n",
    "    'fecha_fin': pd.NaT,\n",
    "    'es_actual': True\n",
    "}\n",
    "\n",
    "# Actualizamos la versión anterior\n",
    "usuarios_dim.loc[(usuarios_dim['usuarioid'] == 1) & (usuarios_dim['es_actual']), 'fecha_fin'] = nueva_version['fecha_inicio']\n",
    "usuarios_dim.loc[(usuarios_dim['usuarioid'] == 1) & (usuarios_dim['es_actual']), 'es_actual'] = False\n",
    "\n",
    "# Agregamos la nueva versión\n",
    "usuarios_dim = pd.concat([usuarios_dim, pd.DataFrame([nueva_version])], ignore_index=True)\n",
    "\n",
    "usuarios_dim"
   ]
  }
 ],
 "metadata": {
  "language_info": {
   "name": "python"
  }
 },
 "nbformat": 4,
 "nbformat_minor": 5
}
